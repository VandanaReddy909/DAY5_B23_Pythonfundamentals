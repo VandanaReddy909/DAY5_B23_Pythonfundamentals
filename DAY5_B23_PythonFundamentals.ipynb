{
 "cells": [
  {
   "cell_type": "code",
   "execution_count": 4,
   "metadata": {},
   "outputs": [
    {
     "name": "stdout",
     "output_type": "stream",
     "text": [
      "('vandana', 'anjali', 'arun', 'venkat', 'spandana')\n"
     ]
    }
   ],
   "source": [
    "Students_list = ('vandana',\"anjali\",\"arun\",\"venkat\",\"spandana\")\n",
    "print(Students_list)"
   ]
  },
  {
   "cell_type": "code",
   "execution_count": 5,
   "metadata": {},
   "outputs": [
    {
     "name": "stdout",
     "output_type": "stream",
     "text": [
      "Enjoy your holidays,vandana\n",
      "Enjoy your holidays,anjali\n",
      "Enjoy your holidays,arun\n",
      "Enjoy your holidays,venkat\n",
      "Enjoy your holidays,spandana\n"
     ]
    }
   ],
   "source": [
    "for s in Students_list:\n",
    "    print(f\"Enjoy your holidays,{s}\")"
   ]
  },
  {
   "cell_type": "code",
   "execution_count": 6,
   "metadata": {},
   "outputs": [
    {
     "name": "stdout",
     "output_type": "stream",
     "text": [
      "Enjoy your holidays,Vandana\n",
      "Enjoy your holidays,Anjali\n",
      "Enjoy your holidays,Arun\n",
      "Enjoy your holidays,Venkat\n",
      "Enjoy your holidays,Spandana\n"
     ]
    }
   ],
   "source": [
    "for s in Students_list:\n",
    "    print(f\"Enjoy your holidays,{s.title()}\")"
   ]
  },
  {
   "cell_type": "code",
   "execution_count": 9,
   "metadata": {},
   "outputs": [
    {
     "name": "stdout",
     "output_type": "stream",
     "text": [
      "Enjoy your holidays,Vandana\n",
      "Be back soon,Vandana\n",
      "Enjoy your holidays,Anjali\n",
      "Be back soon,Anjali\n",
      "Enjoy your holidays,Arun\n",
      "Be back soon,Arun\n",
      "Enjoy your holidays,Venkat\n",
      "Be back soon,Venkat\n",
      "Enjoy your holidays,Spandana\n",
      "Be back soon,Spandana\n"
     ]
    }
   ],
   "source": [
    "for s in Students_list:\n",
    "    print(f\"Enjoy your holidays,{s.title()}\")\n",
    "    print(f\"Be back soon,{s.title()}\")"
   ]
  },
  {
   "cell_type": "code",
   "execution_count": 10,
   "metadata": {},
   "outputs": [
    {
     "name": "stdout",
     "output_type": "stream",
     "text": [
      "Enjoy your holidays,Vandana\n",
      "Be back soon,Vandana\n",
      "\n",
      "Enjoy your holidays,Anjali\n",
      "Be back soon,Anjali\n",
      "\n",
      "Enjoy your holidays,Arun\n",
      "Be back soon,Arun\n",
      "\n",
      "Enjoy your holidays,Venkat\n",
      "Be back soon,Venkat\n",
      "\n",
      "Enjoy your holidays,Spandana\n",
      "Be back soon,Spandana\n",
      "\n"
     ]
    }
   ],
   "source": [
    "for s in Students_list:\n",
    "    print(f\"Enjoy your holidays,{s.title()}\")\n",
    "    print(f\"Be back soon,{s.title()}\\n\")"
   ]
  },
  {
   "cell_type": "code",
   "execution_count": 12,
   "metadata": {},
   "outputs": [
    {
     "name": "stdout",
     "output_type": "stream",
     "text": [
      "Enjoy your holidays,Vandana\n",
      "Be back soon,Vandana\n",
      "\n",
      "Enjoy your holidays,Anjali\n",
      "Be back soon,Anjali\n",
      "\n",
      "Enjoy your holidays,Arun\n",
      "Be back soon,Arun\n",
      "\n",
      "Enjoy your holidays,Venkat\n",
      "Be back soon,Venkat\n",
      "\n",
      "Enjoy your holidays,Spandana\n",
      "Be back soon,Spandana\n",
      "\n",
      "Be Safe\n"
     ]
    }
   ],
   "source": [
    "for s in Students_list:\n",
    "    print(f\"Enjoy your holidays,{s.title()}\")\n",
    "    print(f\"Be back soon,{s.title()}\\n\")\n",
    "    \n",
    "print(\"Be Safe\")"
   ]
  },
  {
   "cell_type": "code",
   "execution_count": 14,
   "metadata": {},
   "outputs": [
    {
     "name": "stdout",
     "output_type": "stream",
     "text": [
      "['vandana', 'anjali', 'arun', 'venkat', 'spandana']\n"
     ]
    }
   ],
   "source": [
    "Students_list=[\"vandana\",\"anjali\",\"arun\",\"venkat\",\"spandana\"]\n",
    "print(Students_list)"
   ]
  },
  {
   "cell_type": "code",
   "execution_count": 19,
   "metadata": {},
   "outputs": [
    {
     "name": "stdout",
     "output_type": "stream",
     "text": [
      "['anjali', 'arun', 'spandana', 'vandana', 'venkat']\n"
     ]
    }
   ],
   "source": [
    "print(sorted(Students_list))#Temporary sorting"
   ]
  },
  {
   "cell_type": "code",
   "execution_count": 20,
   "metadata": {},
   "outputs": [
    {
     "name": "stdout",
     "output_type": "stream",
     "text": [
      "['vandana', 'anjali', 'arun', 'venkat', 'spandana']\n"
     ]
    }
   ],
   "source": [
    "print(Students_list)"
   ]
  },
  {
   "cell_type": "code",
   "execution_count": 24,
   "metadata": {},
   "outputs": [
    {
     "name": "stdout",
     "output_type": "stream",
     "text": [
      "['anjali', 'arun', 'spandana', 'vandana', 'venkat']\n"
     ]
    }
   ],
   "source": [
    "Students_list.sort()\n",
    "print(Students_list)"
   ]
  },
  {
   "cell_type": "code",
   "execution_count": null,
   "metadata": {},
   "outputs": [],
   "source": []
  }
 ],
 "metadata": {
  "kernelspec": {
   "display_name": "Python 3",
   "language": "python",
   "name": "python3"
  },
  "language_info": {
   "codemirror_mode": {
    "name": "ipython",
    "version": 3
   },
   "file_extension": ".py",
   "mimetype": "text/x-python",
   "name": "python",
   "nbconvert_exporter": "python",
   "pygments_lexer": "ipython3",
   "version": "3.7.6"
  }
 },
 "nbformat": 4,
 "nbformat_minor": 4
}
